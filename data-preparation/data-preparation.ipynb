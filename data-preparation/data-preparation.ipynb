{
 "cells": [
  {
   "cell_type": "markdown",
   "id": "4288451f-5bed-4031-9c71-5f898dbcd3ea",
   "metadata": {},
   "source": [
    "# Personal Budget Data Preparation"
   ]
  },
  {
   "cell_type": "markdown",
   "id": "5f786dcd-f86e-431c-99b7-3fedaa24911e",
   "metadata": {},
   "source": [
    "## Plan"
   ]
  },
  {
   "cell_type": "markdown",
   "id": "e9b2c7ea-df74-4714-9b02-246519a81060",
   "metadata": {},
   "source": [
    "### income_log table"
   ]
  },
  {
   "cell_type": "markdown",
   "id": "3351c74e-f837-47ac-893d-470302a9894a",
   "metadata": {},
   "source": [
    "1. Import raw income_log data (two)\n",
    "2. Combine dataframes to one dataframe\n",
    "3. Sort resulting dataframe by date\n",
    "4. Graph data to validate distribution\n",
    "5. Export data to sql file with prefix `final_`"
   ]
  },
  {
   "cell_type": "markdown",
   "id": "3fc04496-4843-4024-85d8-8887f2a541c2",
   "metadata": {},
   "source": [
    "### savings_log table"
   ]
  },
  {
   "cell_type": "markdown",
   "id": "29cff2b1-cf9e-49eb-b5f2-d187b37dd7b8",
   "metadata": {},
   "source": [
    "1. Import raw savings_log data (two)\n",
    "2. Sort each dataframe by date\n",
    "3. Calculate sum of `change` column per dataframe\n",
    "4. If sum is negative, change some cells in the `change` column to positive\n",
    "5. Add new cumulative column called `balance` for each dataframe using `cumsum`\n",
    "6. Combine dataframes to one dataframe\n",
    "7. Try: Move `balance` column to be after `change` column\n",
    "8. Sort resulting dataframe by date\n",
    "9. Export dataframe to sql file with prefix `final_`"
   ]
  },
  {
   "cell_type": "markdown",
   "id": "051e80ee-6fe6-4232-9240-bf32127b4786",
   "metadata": {},
   "source": [
    "### users table"
   ]
  },
  {
   "cell_type": "markdown",
   "id": "450b1740-8192-47cd-9876-c0d4346676ff",
   "metadata": {},
   "source": [
    "Write sql file containing two users each with `name`, `username`, and `password`"
   ]
  },
  {
   "cell_type": "markdown",
   "id": "248df435-dd0e-4ca4-a55d-d22d286e041a",
   "metadata": {},
   "source": [
    "## Implementation"
   ]
  },
  {
   "cell_type": "code",
   "execution_count": null,
   "id": "4201a032-68a0-40ad-9bdf-efc968ebd6c3",
   "metadata": {},
   "outputs": [],
   "source": [
    "import numpy as np\n",
    "import pandas as pd\n",
    "import "
   ]
  }
 ],
 "metadata": {
  "kernelspec": {
   "display_name": "Python 3 (ipykernel)",
   "language": "python",
   "name": "python3"
  },
  "language_info": {
   "codemirror_mode": {
    "name": "ipython",
    "version": 3
   },
   "file_extension": ".py",
   "mimetype": "text/x-python",
   "name": "python",
   "nbconvert_exporter": "python",
   "pygments_lexer": "ipython3",
   "version": "3.13.5"
  }
 },
 "nbformat": 4,
 "nbformat_minor": 5
}

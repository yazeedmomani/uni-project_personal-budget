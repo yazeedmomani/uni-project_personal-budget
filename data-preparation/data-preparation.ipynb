{
 "cells": [
  {
   "cell_type": "markdown",
   "id": "4288451f-5bed-4031-9c71-5f898dbcd3ea",
   "metadata": {},
   "source": [
    "# Personal Budget Data Preparation"
   ]
  },
  {
   "cell_type": "code",
   "execution_count": null,
   "id": "cf56265a-f099-4abe-8670-fa14cee93ebc",
   "metadata": {},
   "outputs": [],
   "source": []
  }
 ],
 "metadata": {
  "kernelspec": {
   "display_name": "Python 3 (ipykernel)",
   "language": "python",
   "name": "python3"
  },
  "language_info": {
   "codemirror_mode": {
    "name": "ipython",
    "version": 3
   },
   "file_extension": ".py",
   "mimetype": "text/x-python",
   "name": "python",
   "nbconvert_exporter": "python",
   "pygments_lexer": "ipython3",
   "version": "3.13.5"
  }
 },
 "nbformat": 4,
 "nbformat_minor": 5
}
